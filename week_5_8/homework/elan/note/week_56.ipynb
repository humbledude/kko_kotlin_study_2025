{
 "cells": [
  {
   "metadata": {},
   "cell_type": "markdown",
   "source": [
    "## 단위테스트\n",
    "\n",
    "- junit 과 assertion 에 대해서 알아보기\n",
    "\n",
    "### Junit5 주요 애노테이션\n",
    "\n",
    "- `@Test`: 메스트 메소드 표시\n",
    "- `@BeforeEach`: 매 테스트 메소드 수행전에 실행\n",
    "- `@AfterEach`: 매 테스트 메소드 종료후에 실행\n",
    "- `@BeforeAll`: 모든 테스트 시작전에 한번만 실행 (static)\n",
    "- `@AfterAll`: 모든 테스트 종료후 한번만 실행 (static)\n",
    "\n",
    "### AssertJ 장점\n",
    "\n",
    "- 더 읽기 쉬운 메소드 체이닝\n",
    "- 많은 확장 함수\n",
    "- 명확한 오류 메시지\n"
   ]
  },
  {
   "metadata": {},
   "cell_type": "markdown",
   "source": [
    "## API 테스트\n",
    "\n",
    "컨트롤러를 테스트\n",
    "\n",
    "- `perform()`: 요청 수행\n",
    "- `andExpect()`: 결과 검증\n",
    "- `andDo()`: 부가작업(출력..)\n",
    "- `andReturn()`: 테스트 결과 반환"
   ]
  },
  {
   "metadata": {},
   "cell_type": "markdown",
   "source": [
    "## MockK\n",
    "> 코틀린에 특화된 모킹 라이브러리\n",
    "\n",
    "주요 기능\n",
    "- 수동으로 mock 생성이 가능하지만 애노테이션이 명확해보임\n",
    "    - `@MockK`: 모킹\n",
    "    - `@InjectMockKs`: 모킹된 객체 주입\n",
    "\n",
    "주요 함수\n",
    "- `every { ... } returns ...`: 목의 내용 동작 정의\n",
    "- `every { ... } throws ...`: 목의 예외 동작 정의\n",
    "- `verify { ... }`: 목 객체가 호출되었는지 검증\n",
    "- `confirmVerified(...)`: 모든 상호동작이 검증되었는지 확인.\n",
    "\n"
   ]
  },
  {
   "metadata": {},
   "cell_type": "markdown",
   "source": [
    "## 테스트 모범사례와 팁\n",
    "\n",
    "1. 테스트 구조는 Given-When-Then 구조를 따를것\n",
    "    - Given: 테스트 조건 설정\n",
    "    - When: 테스트 할 기능 실행\n",
    "    - Then: 결과 검증\n",
    "2. 테스트의 이름은 명확하게 할것\n",
    "    - 백틱(\\`\\`)을 테스트 이름으로 가독성향상\n",
    "    - 어떤 테스트를 진행할것인지 명확하게 설명\n",
    "3. 테스트는 독립적이어야 함\n",
    "    - 의존성 없이 각각 독립적으로 실행가능해야 함.\n",
    "    - 공유 상태를 피해야 함\n",
    "4. 목(Mock) 객체는 필요한것만 설정\n",
    "    - 테스트와 관련없는 목 설정은 피할것.\n",
    "    - 과도한 목 설정은 유지보수를 어렵게 만듬.\n",
    "5. 통합 테스트도 고려할것\n",
    "    - 단위 테스트만으로 모든 문제를 파악할수 없음.\n",
    "    - `@SpringBootTest` 를 통한 통합 테스트 추가\n",
    "\n",
    "\n",
    "### 참고\n",
    "- [다음에 해볼 통합테스트](https://claude.ai/share/d925eb2d-a706-4c38-8b85-1b72007f92bf)"
   ]
  }
 ],
 "metadata": {
  "kernelspec": {
   "display_name": "Kotlin",
   "language": "kotlin",
   "name": "kotlin"
  },
  "language_info": {
   "name": "kotlin",
   "version": "1.9.23",
   "mimetype": "text/x-kotlin",
   "file_extension": ".kt",
   "pygments_lexer": "kotlin",
   "codemirror_mode": "text/x-kotlin",
   "nbconvert_exporter": ""
  }
 },
 "nbformat": 4,
 "nbformat_minor": 0
}
