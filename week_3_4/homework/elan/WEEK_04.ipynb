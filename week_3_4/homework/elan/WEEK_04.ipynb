{
 "cells": [
  {
   "metadata": {},
   "cell_type": "markdown",
   "source": [
    "## 목표\n",
    "✅ 4주차: 비동기 처리 & 코루틴\n",
    "- 코루틴 기본 개념 (suspend, async/await, launch)\n",
    "- Flow와 Channel 활용\n",
    "- 실습: 간단한 비동기 API 호출 및 데이터 처리"
   ]
  },
  {
   "metadata": {},
   "cell_type": "markdown",
   "source": [
    "## 코루틴\n",
    "\n",
    "- 비동기 처리를 쉽게 해주는 코틀린의 방법\n",
    "- 쓰레드가 아님(개념상 경량 쓰레드)\n",
    "- launch / async 로 시작\n"
   ]
  },
  {
   "metadata": {
    "ExecuteTime": {
     "end_time": "2025-04-28T13:58:59.878162Z",
     "start_time": "2025-04-28T13:58:59.710079Z"
    }
   },
   "cell_type": "code",
   "source": [
    "@file:DependsOn(\"org.jetbrains.kotlinx:kotlinx-coroutines-core:1.9.0\")\n",
    "import kotlinx.coroutines.*"
   ],
   "outputs": [],
   "execution_count": 1
  },
  {
   "metadata": {
    "ExecuteTime": {
     "end_time": "2025-04-28T13:59:01.021917Z",
     "start_time": "2025-04-28T13:58:59.884361Z"
    }
   },
   "cell_type": "code",
   "source": [
    "runBlocking {\n",
    "    launch {\n",
    "        println(\"🍔 햄버거 만들기 시작!\")\n",
    "        delay(1000)\n",
    "        println(\"🍔 햄버거 완성!\")\n",
    "    }\n",
    "    println(\"🎮 게임 계속하기\")\n",
    "}"
   ],
   "outputs": [
    {
     "name": "stdout",
     "output_type": "stream",
     "text": [
      "🎮 게임 계속하기\n",
      "🍔 햄버거 만들기 시작!\n",
      "🍔 햄버거 완성!\n"
     ]
    }
   ],
   "execution_count": 2
  },
  {
   "metadata": {},
   "cell_type": "markdown",
   "source": [
    "### async / await\n",
    "\n",
    "- async 는 launcher 와 달리 응답값을 받고 await 로 수신"
   ]
  },
  {
   "metadata": {
    "ExecuteTime": {
     "end_time": "2025-04-28T14:03:18.909360Z",
     "start_time": "2025-04-28T14:03:16.809598Z"
    }
   },
   "cell_type": "code",
   "source": [
    "runBlocking {\n",
    "    val result = async {\n",
    "        delay(1000)\n",
    "        100 + 200\n",
    "    }\n",
    "    println(\"점수 계산중\")\n",
    "    println(\"점수: ${result.await()} 점\")\n",
    "}\n"
   ],
   "outputs": [
    {
     "name": "stdout",
     "output_type": "stream",
     "text": [
      "점수 계산중\n",
      "점수: 300 점\n",
      "result: async coroutine result\n",
      "launch\n"
     ]
    }
   ],
   "execution_count": 7
  },
  {
   "metadata": {
    "ExecuteTime": {
     "end_time": "2025-04-28T14:03:44.175006Z",
     "start_time": "2025-04-28T14:03:43.110615Z"
    }
   },
   "cell_type": "code",
   "source": [
    "runBlocking {\n",
    "    launch {\n",
    "        delay(1000)\n",
    "        println(\"launch\")\n",
    "    }\n",
    "\n",
    "    val deffered = async {\n",
    "        delay(500)\n",
    "        \"async coroutine result\"\n",
    "    }\n",
    "    println(\"result: ${deffered.await()}\")\n",
    "}"
   ],
   "outputs": [
    {
     "name": "stdout",
     "output_type": "stream",
     "text": [
      "result: async coroutine result\n",
      "launch\n"
     ]
    }
   ],
   "execution_count": 8
  },
  {
   "metadata": {},
   "cell_type": "markdown",
   "source": [
    "## suspend\n",
    "\n",
    "- 코루틴만 사용할수 있는 함수\n",
    "- launch / async 에서만 쓸수 있음"
   ]
  },
  {
   "metadata": {
    "ExecuteTime": {
     "end_time": "2025-04-28T14:10:20.798323Z",
     "start_time": "2025-04-28T14:10:20.248846Z"
    }
   },
   "cell_type": "code",
   "source": [
    "suspend fun fetchData(): String {\n",
    "    delay(500)\n",
    "    return \"API result\"\n",
    "}\n",
    "\n",
    "runBlocking {\n",
    "    launch {\n",
    "        val result = fetchData()\n",
    "        println(\"fetch API: $result\")\n",
    "    }\n",
    "    println(\"hello\")\n",
    "}\n"
   ],
   "outputs": [
    {
     "name": "stdout",
     "output_type": "stream",
     "text": [
      "hello\n",
      "fetch API: API result\n"
     ]
    }
   ],
   "execution_count": 14
  },
  {
   "metadata": {},
   "cell_type": "markdown",
   "source": [
    "## flow\n",
    "\n",
    "- 자바의 스트림과 비슷함, 연속된 데이터의 비동기 흐름.\n",
    "- collect() 호출시점에 데이터 생성"
   ]
  },
  {
   "metadata": {
    "ExecuteTime": {
     "end_time": "2025-04-28T13:59:02.263726Z",
     "start_time": "2025-04-28T13:59:02.183733Z"
    }
   },
   "cell_type": "code",
   "source": [
    "import kotlinx.coroutines.flow.*\n",
    "\n",
    "runBlocking {\n",
    "    flow {\n",
    "        emit(1)\n",
    "        emit(2)\n",
    "        emit(1)\n",
    "    }.collect {\n",
    "        println(\"물고기 잡았다. $it 마리\")\n",
    "    }\n",
    "}"
   ],
   "outputs": [
    {
     "name": "stdout",
     "output_type": "stream",
     "text": [
      "물고기 잡았다. 1 마리\n",
      "물고기 잡았다. 2 마리\n",
      "물고기 잡았다. 1 마리\n"
     ]
    }
   ],
   "execution_count": 5
  },
  {
   "metadata": {},
   "cell_type": "markdown",
   "source": [
    "### Channel\n",
    "\n",
    "- 느낌은 MQ\n",
    "- 코루틴간의 통신을 위한 큐 (소비되면 다시 소비 불가)\n"
   ]
  },
  {
   "metadata": {
    "ExecuteTime": {
     "end_time": "2025-04-28T14:05:57.633603Z",
     "start_time": "2025-04-28T14:05:57.578308Z"
    }
   },
   "cell_type": "code",
   "source": [
    "import kotlinx.coroutines.channels.*\n",
    "import javax.naming.InitialContext\n",
    "\n",
    "\n",
    "runBlocking {\n",
    "    val channel = Channel<Int>()\n",
    "\n",
    "    launch {\n",
    "        for (x in 1..3) {\n",
    "            println(\"send data: $x\")\n",
    "            channel.send(x)\n",
    "        }\n",
    "        channel.close()\n",
    "    }\n",
    "\n",
    "    for (x in channel) {\n",
    "        println(\"received: $x\")\n",
    "    }\n",
    "}"
   ],
   "outputs": [
    {
     "name": "stdout",
     "output_type": "stream",
     "text": [
      "send data: 1\n",
      "send data: 2\n",
      "received: 1\n",
      "received: 2\n",
      "send data: 3\n",
      "received: 3\n"
     ]
    }
   ],
   "execution_count": 9
  },
  {
   "metadata": {},
   "cell_type": "markdown",
   "source": [
    "### chunk\n",
    "\n",
    "- 컬렉션을 단위로 나누는것"
   ]
  },
  {
   "metadata": {
    "ExecuteTime": {
     "end_time": "2025-04-28T14:15:06.661502Z",
     "start_time": "2025-04-28T14:15:06.613477Z"
    }
   },
   "cell_type": "code",
   "source": [
    "val chunkedList = (1..10).chunked(3)\n",
    "println(chunkedList)"
   ],
   "outputs": [
    {
     "name": "stdout",
     "output_type": "stream",
     "text": [
      "[[1, 2, 3], [4, 5, 6], [7, 8, 9], [10]]\n"
     ]
    }
   ],
   "execution_count": 15
  },
  {
   "metadata": {},
   "cell_type": "markdown",
   "source": [
    "### semaphore\n",
    "\n",
    "- 코루틴에서 한번에 수행할수 있는갯수"
   ]
  },
  {
   "metadata": {
    "ExecuteTime": {
     "end_time": "2025-04-28T14:23:36.940541Z",
     "start_time": "2025-04-28T14:23:33.870202Z"
    }
   },
   "cell_type": "code",
   "source": [
    "import kotlinx.coroutines.sync.*\n",
    "\n",
    "runBlocking {\n",
    "    val semaphore: Semaphore = Semaphore(2)\n",
    "\n",
    "    val jobs = List(5) { i ->\n",
    "        launch {\n",
    "            semaphore.withPermit {\n",
    "                println(\"작업 $i 시작\")\n",
    "                delay(1000)\n",
    "                println(\"작업 $i 종료\")\n",
    "            }\n",
    "        }\n",
    "    }\n",
    "    jobs.joinAll()\n",
    "}"
   ],
   "outputs": [
    {
     "name": "stdout",
     "output_type": "stream",
     "text": [
      "작업 0 시작\n",
      "작업 1 시작\n",
      "작업 0 종료\n",
      "작업 1 종료\n",
      "작업 2 시작\n",
      "작업 3 시작\n",
      "작업 2 종료\n",
      "작업 3 종료\n",
      "작업 4 시작\n",
      "작업 4 종료\n"
     ]
    }
   ],
   "execution_count": 17
  },
  {
   "metadata": {},
   "cell_type": "markdown",
   "source": [
    "### Dispatcher\n",
    "\n",
    "- 코루틴을 어떤 쓰레드에서 수행할것인지 정해주는 것\n",
    "- Default(CPU 연산 최적화) / IO / Main (안드로이드 UI 쓰레드) / Unconfined (제한없이 현재 쓰레드 사용)\n"
   ]
  },
  {
   "metadata": {
    "ExecuteTime": {
     "end_time": "2025-04-28T14:32:27.592512Z",
     "start_time": "2025-04-28T14:32:27.539456Z"
    }
   },
   "cell_type": "code",
   "source": [
    "import kotlinx.coroutines.*\n",
    "\n",
    "runBlocking {\n",
    "    launch(Dispatchers.Default) {\n",
    "        println(\"Default 작업: ${Thread.currentThread().name}\")\n",
    "    }\n",
    "    launch(Dispatchers.IO) {\n",
    "        println(\"IO 작업: ${Thread.currentThread().name}\")\n",
    "    }\n",
    "}"
   ],
   "outputs": [
    {
     "name": "stdout",
     "output_type": "stream",
     "text": [
      "Default 작업: DefaultDispatcher-worker-3\n",
      "IO 작업: DefaultDispatcher-worker-2\n",
      "Unconfined 작업: Execution of code 'import kotlinx.corou...'\n"
     ]
    },
    {
     "data": {
      "text/plain": [
       "StandaloneCoroutine{Completed}@40eb48d"
      ]
     },
     "execution_count": 24,
     "metadata": {},
     "output_type": "execute_result"
    }
   ],
   "execution_count": 24
  },
  {
   "metadata": {},
   "cell_type": "code",
   "outputs": [],
   "execution_count": null,
   "source": ""
  }
 ],
 "metadata": {
  "kernelspec": {
   "display_name": "Kotlin",
   "language": "kotlin",
   "name": "kotlin"
  },
  "language_info": {
   "name": "kotlin",
   "version": "1.9.23",
   "mimetype": "text/x-kotlin",
   "file_extension": ".kt",
   "pygments_lexer": "kotlin",
   "codemirror_mode": "text/x-kotlin",
   "nbconvert_exporter": ""
  }
 },
 "nbformat": 4,
 "nbformat_minor": 0
}
