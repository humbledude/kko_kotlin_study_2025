{
 "cells": [
  {
   "metadata": {},
   "cell_type": "markdown",
   "source": [
    "## 목표\n",
    "\n",
    "✅ 컬렉션, 람다, 스트림 처리\n",
    "- List, Set, Map 등 컬렉션 다루기\n",
    "- 람다 표현식과 Stream 처리\n",
    "- Scope Functions (let, run, apply, also, with)\n",
    "- 실습: 코틀린의 컬렉션 API를 사용한 데이터 처리\n"
   ]
  },
  {
   "metadata": {},
   "cell_type": "markdown",
   "source": [
    "### 컬렉션\n",
    "- 기본적으로 불변, 가변은 `mutable~` 로 시작\n",
    "- 자바와 다르게 컬렉션에서 stream 의 함수들을 사용\n"
   ]
  },
  {
   "metadata": {
    "ExecuteTime": {
     "end_time": "2025-04-28T13:58:46.811929Z",
     "start_time": "2025-04-28T13:58:46.755338Z"
    }
   },
   "cell_type": "code",
   "source": [
    "val list = listOf(\"바나나\", \"오렌지\", \"사과\")\n",
    "println(list)\n",
    "\n",
    "val set = setOf(\"바나나\", \"오렌지\", \"바나나\")\n",
    "println(set)\n",
    "\n",
    "val map = mapOf(\"아빠\" to \"123\", \"엄마\" to \"456\")\n",
    "println(map)\n",
    "\n",
    "val mutableList = mutableListOf(\"수정\", \"가능해요\")\n",
    "// list.add 안됨\n",
    "println(\"mutableList: $mutableList\")\n",
    "mutableList.add(\"그렇죠?\")\n",
    "println(\"mutableList: $mutableList\")\n"
   ],
   "outputs": [
    {
     "name": "stdout",
     "output_type": "stream",
     "text": [
      "[바나나, 오렌지, 사과]\n",
      "[바나나, 오렌지]\n",
      "{아빠=123, 엄마=456}\n",
      "mutableList: [수정, 가능해요]\n",
      "mutableList: [수정, 가능해요, 그렇죠?]\n"
     ]
    }
   ],
   "execution_count": 5
  },
  {
   "metadata": {},
   "cell_type": "markdown",
   "source": [
    "### 람다\n",
    "- 자바와 다르게 함수 자체가 일급객체\n",
    "- 후행 람다 문법: 함수의 마지막 인자가 람다인 경우 괄호 밖으로 람다를 뺄수 있음."
   ]
  },
  {
   "metadata": {
    "ExecuteTime": {
     "end_time": "2025-04-28T13:58:46.845434Z",
     "start_time": "2025-04-28T13:58:46.818651Z"
    }
   },
   "cell_type": "code",
   "source": [
    "val sum: (Int, Int) -> Int = { a: Int, b: Int -> a + b}\n",
    "println(sum(1, 2))"
   ],
   "outputs": [
    {
     "name": "stdout",
     "output_type": "stream",
     "text": [
      "3\n"
     ]
    }
   ],
   "execution_count": 6
  },
  {
   "metadata": {},
   "cell_type": "markdown",
   "source": [
    "### 컬렉션 스트림 처리\n",
    "\n",
    "- 기본적으로 map 과 filter 와 같은 자바의 stream API 를 제공\n",
    "- 자바와 달리 반복호출에 안전하지만, 지연평가를 위해선 `asSequence()` 사용\n"
   ]
  },
  {
   "metadata": {
    "ExecuteTime": {
     "end_time": "2025-04-28T13:58:46.920672Z",
     "start_time": "2025-04-28T13:58:46.850185Z"
    }
   },
   "cell_type": "code",
   "source": [
    "val filteredList = listOf(\"Alice\", \"Bob\", \"Charlie\")\n",
    "    .filter { it.startsWith(\"A\") }\n",
    "println(filteredList)\n",
    "\n",
    "val mappedList = listOf(\"banana\", \"apple\", \"melon\", \"orange\")\n",
    "    .map { it.first() }\n",
    "println(mappedList)\n",
    "\n",
    "val lazyResult = listOf(1,2,3,4,5,10)\n",
    "    .asSequence()\n",
    "    .filter { it % 2 == 0 }\n",
    "    .map { it * 2 }\n",
    "    .toList()\n",
    "println(lazyResult)\n"
   ],
   "outputs": [
    {
     "name": "stdout",
     "output_type": "stream",
     "text": [
      "[Alice]\n",
      "[b, a, m, o]\n",
      "[4, 8, 20]\n"
     ]
    }
   ],
   "execution_count": 7
  },
  {
   "metadata": {},
   "cell_type": "markdown",
   "source": [
    "### 고차함수\n",
    "\n",
    "- 가독성이 뛰어남"
   ]
  },
  {
   "metadata": {
    "ExecuteTime": {
     "end_time": "2025-04-28T13:58:46.962349Z",
     "start_time": "2025-04-28T13:58:46.925461Z"
    }
   },
   "cell_type": "code",
   "source": [
    "fun operate(x: Int, y: Int, op: (Int, Int) -> Int): Int = op(x, y)\n",
    "//var result = operate(3, 5) { a, b -> a + b }\n",
    "var result = operate(3, 5) { a, b -> a * b }\n",
    "println(result)"
   ],
   "outputs": [
    {
     "name": "stdout",
     "output_type": "stream",
     "text": [
      "15\n"
     ]
    }
   ],
   "execution_count": 8
  },
  {
   "metadata": {},
   "cell_type": "markdown",
   "source": [
    "### Scope Functions\n",
    "\n",
    "- `let`, `run`, `apply`, `also`, `with`"
   ]
  },
  {
   "metadata": {
    "ExecuteTime": {
     "end_time": "2025-04-28T13:58:47.152560Z",
     "start_time": "2025-04-28T13:58:46.967047Z"
    }
   },
   "cell_type": "code",
   "source": [
    "val name: String? = \"토끼\"\n",
    "name?.let {\n",
    "    println(\"이름은 $it 입니다.\")\n",
    "}\n",
    "\n",
    "val length = \"코틀린\".run {\n",
    "    println(\"나는 $this 입니다.\")\n",
    "    length\n",
    "}\n",
    "println(length)\n",
    "\n",
    "// apply\n",
    "data class Robot(var name: String? = null, var power: Int? = null)\n",
    "val robot = Robot().apply {\n",
    "    name = \"코틀린 로봇\"\n",
    "    power = 2000\n",
    "}\n",
    "println(robot)\n",
    "\n",
    "// also\n",
    "val list = mutableListOf(1, 2, 3)\n",
    "list.also {\n",
    "    println(\"초기 리스트: $it\")\n",
    "}.add(10)\n",
    "\n",
    "// with\n",
    "val str = \"Kotlin\"\n",
    "val result = with(str) {\n",
    "    uppercase()\n",
    "}\n",
    "println(result)"
   ],
   "outputs": [
    {
     "name": "stdout",
     "output_type": "stream",
     "text": [
      "이름은 토끼 입니다.\n",
      "나는 코틀린 입니다.\n",
      "3\n",
      "Robot(name=코틀린 로봇, power=2000)\n",
      "초기 리스트: [1, 2, 3]\n",
      "KOTLIN\n"
     ]
    }
   ],
   "execution_count": 9
  },
  {
   "metadata": {},
   "cell_type": "markdown",
   "source": [
    "### 기타 학습 내용\n",
    "\n",
    "- infix 함수\n",
    "  - 중간 연산자 처럼 사용할수 있는 함수 (eg. `\"A\" to \"B\"`)\n",
    "- 연산자 오버로딩\n",
    "  - 기존 연산자 (+, -... 같은 기호) 를 직접 정의해서 사용하는 기능. (`operator` 키워드 사용)\n",
    "- 자바에는 없는 Collection / Map API"
   ]
  },
  {
   "metadata": {
    "ExecuteTime": {
     "end_time": "2025-04-28T13:58:47.255463Z",
     "start_time": "2025-04-28T13:58:47.158390Z"
    }
   },
   "cell_type": "code",
   "source": [
    "// infix 함수\n",
    "infix fun String.meet(other: String): String = \"$this meets $other\"\n",
    "println(\"java\" meet \"kotlin\")\n",
    "\n",
    "// 연산자 오버로딩\n",
    "data class Point(val x: Int, val y: Int) {\n",
    "    operator fun plus(other: Point): Point {\n",
    "        return Point(x + other.x, y + other.y)\n",
    "    }\n",
    "}\n",
    "val point1 = Point(1, 2)\n",
    "val point2 = Point(10, 20)\n",
    "println(point1 + point2)\n",
    "\n",
    "// 유용한 Collection / Map API\n",
    "listOf(\"a\", \"b\", \"c\").mapIndexed { index, value -> \"$index:$value\" }\n",
    "\n",
    "val (even, odd) = listOf(1,2,3,4,5).partition { it % 2 == 0 }\n",
    "println(\"even: $even, odd: $odd\")\n",
    "\n",
    "val data = listOf(1,2,3,4,5)\n",
    "val window = data.windowed(3)\n",
    "println(\"window: $window\")\n",
    "val chunk = data.chunked(2)\n",
    "println(\"chuck: $chunk\")"
   ],
   "outputs": [
    {
     "name": "stdout",
     "output_type": "stream",
     "text": [
      "java meets kotlin\n",
      "Point(x=11, y=22)\n",
      "even: [2, 4], odd: [1, 3, 5]\n",
      "window: [[1, 2, 3], [2, 3, 4], [3, 4, 5]]\n",
      "chuck: [[1, 2], [3, 4], [5]]\n"
     ]
    }
   ],
   "execution_count": 10
  }
 ],
 "metadata": {
  "kernelspec": {
   "display_name": "Kotlin",
   "language": "kotlin",
   "name": "kotlin"
  },
  "language_info": {
   "name": "kotlin",
   "version": "1.9.23",
   "mimetype": "text/x-kotlin",
   "file_extension": ".kt",
   "pygments_lexer": "kotlin",
   "codemirror_mode": "text/x-kotlin",
   "nbconvert_exporter": ""
  }
 },
 "nbformat": 4,
 "nbformat_minor": 0
}
